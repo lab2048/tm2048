{
 "cells": [
  {
   "cell_type": "markdown",
   "metadata": {
    "toc": true
   },
   "source": [
    "<h1>Table of Contents<span class=\"tocSkip\"></span></h1>\n",
    "<div class=\"toc\"><ul class=\"toc-item\"><li><span><a href=\"#csv-->-pandas-df-->-gsheet\" data-toc-modified-id=\"csv-->-pandas-df-->-gsheet-1\"><span class=\"toc-item-num\">1&nbsp;&nbsp;</span>csv -&gt; pandas df -&gt; gsheet</a></span><ul class=\"toc-item\"><li><span><a href=\"#csv-->-pandas-df\" data-toc-modified-id=\"csv-->-pandas-df-1.1\"><span class=\"toc-item-num\">1.1&nbsp;&nbsp;</span>csv -&gt; pandas df</a></span></li><li><span><a href=\"#df-to-gsheet\" data-toc-modified-id=\"df-to-gsheet-1.2\"><span class=\"toc-item-num\">1.2&nbsp;&nbsp;</span>df to gsheet</a></span></li></ul></li><li><span><a href=\"#using-rpy2-(doesn't-work)\" data-toc-modified-id=\"using-rpy2-(doesn't-work)-2\"><span class=\"toc-item-num\">2&nbsp;&nbsp;</span>using rpy2 (doesn't work)</a></span></li></ul></div>"
   ]
  },
  {
   "cell_type": "markdown",
   "metadata": {},
   "source": [
    "# csv -> pandas df -> gsheet\n",
    "## csv -> pandas df"
   ]
  },
  {
   "cell_type": "code",
   "execution_count": 5,
   "metadata": {
    "ExecuteTime": {
     "end_time": "2020-02-23T14:36:55.334674Z",
     "start_time": "2020-02-23T14:36:55.282690Z"
    }
   },
   "outputs": [
    {
     "data": {
      "text/html": [
       "<div>\n",
       "<style scoped>\n",
       "    .dataframe tbody tr th:only-of-type {\n",
       "        vertical-align: middle;\n",
       "    }\n",
       "\n",
       "    .dataframe tbody tr th {\n",
       "        vertical-align: top;\n",
       "    }\n",
       "\n",
       "    .dataframe thead th {\n",
       "        text-align: right;\n",
       "    }\n",
       "</style>\n",
       "<table border=\"1\" class=\"dataframe\">\n",
       "  <thead>\n",
       "    <tr style=\"text-align: right;\">\n",
       "      <th></th>\n",
       "      <th>titles</th>\n",
       "      <th>metadata</th>\n",
       "      <th>date</th>\n",
       "      <th>media</th>\n",
       "      <th>board</th>\n",
       "      <th>author</th>\n",
       "      <th>cat</th>\n",
       "      <th>note</th>\n",
       "    </tr>\n",
       "  </thead>\n",
       "  <tbody>\n",
       "    <tr>\n",
       "      <th>0</th>\n",
       "      <td>曾因這句被狂罵 BoA從此當禁語</td>\n",
       "      <td>〔出版日期〕2020/02/21〔報刊名〕聯合報〔版次/版名〕第C3版/星火線〔作者〕記者王...</td>\n",
       "      <td>2020/02/21</td>\n",
       "      <td>聯合報</td>\n",
       "      <td>第C3版/星火線</td>\n",
       "      <td>記者王郁惠</td>\n",
       "      <td>運動娛樂/影視娛樂</td>\n",
       "      <td>由韓星李棟旭主持的「李棟旭想做脫口秀」節目，最新一期邀來人氣歌手「BoA」寶兒擔任嘉賓，回顧...</td>\n",
       "    </tr>\n",
       "    <tr>\n",
       "      <th>1</th>\n",
       "      <td>入境通關 這個好用</td>\n",
       "      <td>〔出版日期〕2020/02/18〔報刊名〕聯合報〔版次/版名〕第A6版/話題〔作者〕文╱陳嘉...</td>\n",
       "      <td>2020/02/18</td>\n",
       "      <td>聯合報</td>\n",
       "      <td>第A6版/話題</td>\n",
       "      <td>文╱陳嘉寧</td>\n",
       "      <td>新聞綜合/焦點新聞</td>\n",
       "      <td>中央流行疫情指揮中心前天起實施「旅客入境健康聲明暨居家檢疫電子化系統」，但首日使用率僅一成多...</td>\n",
       "    </tr>\n",
       "    <tr>\n",
       "      <th>2</th>\n",
       "      <td>「沒看過這麼多人」 人潮擠爆部落 火箭觀光有潛力</td>\n",
       "      <td>〔出版日期〕2020/02/14〔報刊名〕聯合報〔版次/版名〕第A8版/話題〔作者〕記者尤聰...</td>\n",
       "      <td>2020/02/14</td>\n",
       "      <td>聯合報</td>\n",
       "      <td>第A8版/話題</td>\n",
       "      <td>記者尤聰光、羅紹平</td>\n",
       "      <td>新聞綜合/焦點新聞</td>\n",
       "      <td>晉陞太空科技公司研發的火箭「飛鼠一號」昨雖因天候不佳，風速過強發射終止。但地方期盼的商機已現...</td>\n",
       "    </tr>\n",
       "    <tr>\n",
       "      <th>3</th>\n",
       "      <td>名家破解新冠肺炎 張峰義：17年前SARS臨床經驗 這次少走冤枉路</td>\n",
       "      <td>〔出版日期〕2020/02/14〔報刊名〕聯合報〔版次/版名〕第A4版/要聞〔作者〕記者陳婕...</td>\n",
       "      <td>2020/02/14</td>\n",
       "      <td>聯合報</td>\n",
       "      <td>第A4版/要聞</td>\n",
       "      <td>記者陳婕翎</td>\n",
       "      <td>新聞綜合/焦點新聞</td>\n",
       "      <td>新冠肺炎（武漢肺炎）沒有特效藥，一旦感染就只能仰賴支持性療法，在社會籠罩害怕染病的氛圍中，仍...</td>\n",
       "    </tr>\n",
       "    <tr>\n",
       "      <th>4</th>\n",
       "      <td>這種保單 要扣1.7%隱形成本</td>\n",
       "      <td>〔出版日期〕2020/02/10〔報刊名〕聯合報〔版次/版名〕第A11版/財經要聞〔作者〕記...</td>\n",
       "      <td>2020/02/10</td>\n",
       "      <td>聯合報</td>\n",
       "      <td>第A11版/財經要聞</td>\n",
       "      <td>記者戴瑞瑤</td>\n",
       "      <td>財經新聞/財經要聞</td>\n",
       "      <td>所謂「羊毛出在羊身上」，在投保附保證的年金險前，必須弄清楚有哪些隱形成本。雖然附保證保單是變...</td>\n",
       "    </tr>\n",
       "  </tbody>\n",
       "</table>\n",
       "</div>"
      ],
      "text/plain": [
       "                              titles  \\\n",
       "0                   曾因這句被狂罵 BoA從此當禁語   \n",
       "1                          入境通關 這個好用   \n",
       "2           「沒看過這麼多人」 人潮擠爆部落 火箭觀光有潛力   \n",
       "3  名家破解新冠肺炎 張峰義：17年前SARS臨床經驗 這次少走冤枉路   \n",
       "4                    這種保單 要扣1.7%隱形成本   \n",
       "\n",
       "                                            metadata        date media  \\\n",
       "0  〔出版日期〕2020/02/21〔報刊名〕聯合報〔版次/版名〕第C3版/星火線〔作者〕記者王...  2020/02/21   聯合報   \n",
       "1  〔出版日期〕2020/02/18〔報刊名〕聯合報〔版次/版名〕第A6版/話題〔作者〕文╱陳嘉...  2020/02/18   聯合報   \n",
       "2  〔出版日期〕2020/02/14〔報刊名〕聯合報〔版次/版名〕第A8版/話題〔作者〕記者尤聰...  2020/02/14   聯合報   \n",
       "3  〔出版日期〕2020/02/14〔報刊名〕聯合報〔版次/版名〕第A4版/要聞〔作者〕記者陳婕...  2020/02/14   聯合報   \n",
       "4  〔出版日期〕2020/02/10〔報刊名〕聯合報〔版次/版名〕第A11版/財經要聞〔作者〕記...  2020/02/10   聯合報   \n",
       "\n",
       "        board     author        cat  \\\n",
       "0    第C3版/星火線      記者王郁惠  運動娛樂/影視娛樂   \n",
       "1     第A6版/話題      文╱陳嘉寧  新聞綜合/焦點新聞   \n",
       "2     第A8版/話題  記者尤聰光、羅紹平  新聞綜合/焦點新聞   \n",
       "3     第A4版/要聞      記者陳婕翎  新聞綜合/焦點新聞   \n",
       "4  第A11版/財經要聞      記者戴瑞瑤  財經新聞/財經要聞   \n",
       "\n",
       "                                                note  \n",
       "0  由韓星李棟旭主持的「李棟旭想做脫口秀」節目，最新一期邀來人氣歌手「BoA」寶兒擔任嘉賓，回顧...  \n",
       "1  中央流行疫情指揮中心前天起實施「旅客入境健康聲明暨居家檢疫電子化系統」，但首日使用率僅一成多...  \n",
       "2  晉陞太空科技公司研發的火箭「飛鼠一號」昨雖因天候不佳，風速過強發射終止。但地方期盼的商機已現...  \n",
       "3  新冠肺炎（武漢肺炎）沒有特效藥，一旦感染就只能仰賴支持性療法，在社會籠罩害怕染病的氛圍中，仍...  \n",
       "4  所謂「羊毛出在羊身上」，在投保附保證的年金險前，必須弄清楚有哪些隱形成本。雖然附保證保單是變...  "
      ]
     },
     "execution_count": 5,
     "metadata": {},
     "output_type": "execute_result"
    }
   ],
   "source": [
    "import pandas as pd\n",
    "df = pd.read_csv('../../R/clickbait_detection/csv/this.csv', error_bad_lines = False)\n",
    "df.head()"
   ]
  },
  {
   "cell_type": "markdown",
   "metadata": {},
   "source": [
    "## df to gsheet\n",
    "- pygshsets is just an wrapper up version of Google Sheets API V.4\n",
    "- https://pygsheets.readthedocs.io/en/stable/reference.html#authorization"
   ]
  },
  {
   "cell_type": "code",
   "execution_count": 1,
   "metadata": {
    "ExecuteTime": {
     "end_time": "2020-02-24T13:19:06.125990Z",
     "start_time": "2020-02-24T13:17:56.712088Z"
    }
   },
   "outputs": [
    {
     "ename": "NameError",
     "evalue": "name 'pygsheets' is not defined",
     "output_type": "error",
     "traceback": [
      "\u001b[0;31m---------------------------------------------------------------------------\u001b[0m",
      "\u001b[0;31mNameError\u001b[0m                                 Traceback (most recent call last)",
      "\u001b[0;32m<ipython-input-1-ea29546280af>\u001b[0m in \u001b[0;36m<module>\u001b[0;34m\u001b[0m\n\u001b[0;32m----> 1\u001b[0;31m \u001b[0mgc\u001b[0m \u001b[0;34m=\u001b[0m \u001b[0mpygsheets\u001b[0m\u001b[0;34m.\u001b[0m\u001b[0mauthorize\u001b[0m\u001b[0;34m(\u001b[0m\u001b[0mclient_secret\u001b[0m \u001b[0;34m=\u001b[0m \u001b[0;34mr'credentials.json'\u001b[0m\u001b[0;34m)\u001b[0m \u001b[0;31m# key dir\u001b[0m\u001b[0;34m\u001b[0m\u001b[0;34m\u001b[0m\u001b[0m\n\u001b[0m\u001b[1;32m      2\u001b[0m \u001b[0;34m\u001b[0m\u001b[0m\n\u001b[1;32m      3\u001b[0m \u001b[0;34m\u001b[0m\u001b[0m\n\u001b[1;32m      4\u001b[0m \u001b[0;31m# open the google spreadsheet by url (sheet already exists)\u001b[0m\u001b[0;34m\u001b[0m\u001b[0;34m\u001b[0m\u001b[0;34m\u001b[0m\u001b[0m\n\u001b[1;32m      5\u001b[0m \u001b[0murl\u001b[0m \u001b[0;34m=\u001b[0m \u001b[0;34m\"https://docs.google.com/spreadsheets/d/1GknHvuq-akWC3GZ-XFh_MVLtU2kWyz90RWGBI0Kj9yA/edit?usp=sharing\"\u001b[0m \u001b[0;31m# url\u001b[0m\u001b[0;34m\u001b[0m\u001b[0;34m\u001b[0m\u001b[0m\n",
      "\u001b[0;31mNameError\u001b[0m: name 'pygsheets' is not defined"
     ]
    }
   ],
   "source": [
    "gc = pygsheets.authorize(client_secret = r'credentials.json') # key dir\n",
    "\n",
    "\n",
    "# open the google spreadsheet by url (sheet already exists)\n",
    "url = \"https://docs.google.com/spreadsheets/d/1GknHvuq-akWC3GZ-XFh_MVLtU2kWyz90RWGBI0Kj9yA/edit?usp=sharing\" # url\n",
    "sheets = gc.open_by_url(url)\n",
    "worksheet = sheets.worksheet_by_title('Sheet1')\n",
    "\n",
    "# set_dataframe / update_value\n",
    "worksheet.set_dataframe(df, \"A1\", copy_index = False, nan = \"\")"
   ]
  },
  {
   "cell_type": "code",
   "execution_count": 18,
   "metadata": {
    "ExecuteTime": {
     "end_time": "2020-02-24T13:13:42.245111Z",
     "start_time": "2020-02-24T13:13:42.239388Z"
    }
   },
   "outputs": [
    {
     "name": "stdout",
     "output_type": "stream",
     "text": [
      "{'client_id': '815336075890-hcil1isecljrtg4m68of2uv5fr64dko5.apps.googleusercontent.com', 'project_id': 'quickstart-1582469070670', 'auth_uri': 'https://accounts.google.com/o/oauth2/auth', 'token_uri': 'https://oauth2.googleapis.com/token', 'auth_provider_x509_cert_url': 'https://www.googleapis.com/oauth2/v1/certs', 'client_secret': 'n662aQQmW0fGQq-5-MBAfflm', 'redirect_uris': ['urn:ietf:wg:oauth:2.0:oob', 'http://localhost']}\n"
     ]
    }
   ],
   "source": [
    "import json\n",
    "with open(\"credentials.json\") as fin:\n",
    "    text = fin.read()\n",
    "    print(json.loads(text[13:-1]))\n",
    "# jstr = json.loads(\"credentials.json\")\n",
    "# print(jstr)"
   ]
  },
  {
   "cell_type": "markdown",
   "metadata": {},
   "source": [
    "# using rpy2 (doesn't work)\n",
    "* Install rpy2 firstly\n",
    "* `pip install rpy2` https://pypi.org/project/rpy2/\n",
    "* `conda install -c r rpy2` https://anaconda.org/r/rpy2"
   ]
  },
  {
   "cell_type": "raw",
   "metadata": {
    "ExecuteTime": {
     "end_time": "2020-02-24T13:35:55.367999Z",
     "start_time": "2020-02-24T13:35:55.353541Z"
    }
   },
   "source": [
    "import os\n",
    "import pandas as pd\n",
    "\n",
    "import rpy2.robjects as robjects\n",
    "from rpy2.robjects import pandas2ri    \n",
    "from rpy2.robjects.packages import importr\n",
    "pandas2ri.activate()"
   ]
  },
  {
   "cell_type": "raw",
   "metadata": {
    "ExecuteTime": {
     "end_time": "2020-02-24T13:38:34.059403Z",
     "start_time": "2020-02-24T13:38:32.393198Z"
    }
   },
   "source": [
    "base = importr('base')\n",
    "test = base.load(\"../../R/clickbait_detection/rda/liberty1_500.rda\")\n",
    "print(test)\n",
    "rdf_List = base.mget(base.ls())\n",
    "rdf_List"
   ]
  },
  {
   "cell_type": "raw",
   "metadata": {
    "ExecuteTime": {
     "end_time": "2020-02-24T13:39:36.839631Z",
     "start_time": "2020-02-24T13:39:36.834242Z"
    }
   },
   "source": [
    "# ITERATE THROUGH LIST OF R DFs \n",
    "pydf_dict = {}\n",
    "\n",
    "for i,f in enumerate(base.names(rdf_List)):\n",
    "    pydf_dict[f] = pandas2ri.ri2py_dataframe(rdf_List[i])\n",
    "\n",
    "for k,v in pydf_dict.items():\n",
    "    print(v.head())"
   ]
  }
 ],
 "metadata": {
  "kernelspec": {
   "display_name": "Python 3",
   "language": "python",
   "name": "python3"
  },
  "language_info": {
   "codemirror_mode": {
    "name": "ipython",
    "version": 3
   },
   "file_extension": ".py",
   "mimetype": "text/x-python",
   "name": "python",
   "nbconvert_exporter": "python",
   "pygments_lexer": "ipython3",
   "version": "3.7.6"
  },
  "toc": {
   "base_numbering": 1,
   "nav_menu": {},
   "number_sections": true,
   "sideBar": true,
   "skip_h1_title": false,
   "title_cell": "Table of Contents",
   "title_sidebar": "Contents",
   "toc_cell": true,
   "toc_position": {
    "height": "calc(100% - 180px)",
    "left": "10px",
    "top": "150px",
    "width": "291px"
   },
   "toc_section_display": true,
   "toc_window_display": true
  }
 },
 "nbformat": 4,
 "nbformat_minor": 4
}
